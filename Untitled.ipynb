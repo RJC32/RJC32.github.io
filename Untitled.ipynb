{
 "cells": [
  {
   "cell_type": "code",
   "execution_count": null,
   "metadata": {},
   "outputs": [],
   "source": [
    "## jupyter notebook --notebook-dir=/Users/rjc.EAGLE/"
   ]
  },
  {
   "cell_type": "code",
   "execution_count": 1,
   "metadata": {},
   "outputs": [],
   "source": [
    "from instascrape import *"
   ]
  },
  {
   "cell_type": "code",
   "execution_count": 6,
   "metadata": {},
   "outputs": [
    {
     "data": {
      "text/plain": [
       "<Profile>"
      ]
     },
     "execution_count": 6,
     "metadata": {},
     "output_type": "execute_result"
    }
   ],
   "source": [
    "nt = Profile('https://www.instagram.com/nelsontasmannz/')\n",
    "nt"
   ]
  },
  {
   "cell_type": "code",
   "execution_count": 9,
   "metadata": {},
   "outputs": [
    {
     "name": "stderr",
     "output_type": "stream",
     "text": [
      "C:\\Users\\rjc.EAGLE\\AppData\\Local\\ESRI\\conda\\envs\\env\\lib\\site-packages\\instascrape\\core\\_static_scraper.py:136: MissingCookiesWarning: Request header does not contain cookies! It's recommended you pass at least a valid sessionid otherwise Instagram will likely redirect you to their login page.\n",
      "  MissingCookiesWarning\n"
     ]
    }
   ],
   "source": [
    "nt.scrape()"
   ]
  },
  {
   "cell_type": "code",
   "execution_count": 10,
   "metadata": {},
   "outputs": [
    {
     "data": {
      "text/plain": [
       "23304"
      ]
     },
     "execution_count": 10,
     "metadata": {},
     "output_type": "execute_result"
    }
   ],
   "source": [
    "nt.followers"
   ]
  },
  {
   "cell_type": "code",
   "execution_count": 11,
   "metadata": {},
   "outputs": [
    {
     "data": {
      "text/plain": [
       "[<Post>,\n",
       " <Post>,\n",
       " <Post>,\n",
       " <Post>,\n",
       " <Post>,\n",
       " <Post>,\n",
       " <Post>,\n",
       " <Post>,\n",
       " <Post>,\n",
       " <Post>,\n",
       " <Post>,\n",
       " <Post>]"
      ]
     },
     "execution_count": 11,
     "metadata": {},
     "output_type": "execute_result"
    }
   ],
   "source": [
    "posts = nt.get_recent_posts(12)"
   ]
  },
  {
   "cell_type": "code",
   "execution_count": 12,
   "metadata": {},
   "outputs": [],
   "source": [
    "r = Reel('https://www.instagram.com/reel/CVTsQz2he-7/')"
   ]
  },
  {
   "cell_type": "code",
   "execution_count": 14,
   "metadata": {},
   "outputs": [],
   "source": [
    "r.scrape()"
   ]
  },
  {
   "cell_type": "code",
   "execution_count": 25,
   "metadata": {},
   "outputs": [],
   "source": [
    "r.download(r'C:\\Users\\rjc.EAGLE\\Downloads\\reels\\test.jpg')"
   ]
  },
  {
   "cell_type": "code",
   "execution_count": 19,
   "metadata": {},
   "outputs": [],
   "source": [
    "r.to_json(r'C:\\Users\\rjc.EAGLE\\Downloads\\reels\\test.json')"
   ]
  },
  {
   "cell_type": "code",
   "execution_count": 21,
   "metadata": {},
   "outputs": [],
   "source": [
    "r.scrape()"
   ]
  },
  {
   "cell_type": "code",
   "execution_count": 22,
   "metadata": {},
   "outputs": [
    {
     "data": {
      "text/plain": [
       "'📍The Brook Waimārama Sanctuary\\n\\nExperience Nelson Tasman the active way and connect with nature at the Brook Waimārama Sanctuary, the largest fully fenced sanctuary in the South Island. Take a guided walking tour or explore the tracks that weave throughout the sanctuary at your own pace, listening to the birdsong and spotting waterfalls, wildlife and native flora along the way.\\n\\nOver the next 100 days, we’ll be showing you 100 ways to experience Nelson Tasman – click the follow button now and stay tuned for more! Link to the full list is in our bio.\\n\\n#nelsontasman #nelsontasman100ways\\n\\n@barekiwi @brooksanctuary'"
      ]
     },
     "execution_count": 22,
     "metadata": {},
     "output_type": "execute_result"
    }
   ],
   "source": [
    "r.caption"
   ]
  },
  {
   "cell_type": "code",
   "execution_count": 27,
   "metadata": {},
   "outputs": [
    {
     "name": "stdout",
     "output_type": "stream",
     "text": [
      "Help on Reel in module instascrape.scrapers.reel object:\n",
      "\n",
      "class Reel(instascrape.scrapers.post.Post)\n",
      " |  Reel(source: 'Union[str, BeautifulSoup, JSONDict]') -> 'None'\n",
      " |  \n",
      " |  Scraper for an Instagram reel\n",
      " |  \n",
      " |  Method resolution order:\n",
      " |      Reel\n",
      " |      instascrape.scrapers.post.Post\n",
      " |      instascrape.core._static_scraper._StaticHtmlScraper\n",
      " |      abc.ABC\n",
      " |      builtins.object\n",
      " |  \n",
      " |  Data and other attributes defined here:\n",
      " |  \n",
      " |  __abstractmethods__ = frozenset()\n",
      " |  \n",
      " |  ----------------------------------------------------------------------\n",
      " |  Methods inherited from instascrape.scrapers.post.Post:\n",
      " |  \n",
      " |  download(self, fp: 'str') -> 'None'\n",
      " |      Download an image or video from a post to your local machine at the given filepath\n",
      " |      \n",
      " |      Parameters\n",
      " |      ----------\n",
      " |      fp : str\n",
      " |          Filepath to download the image to\n",
      " |  \n",
      " |  embed(self) -> 'str'\n",
      " |      Return embeddable HTML str for this post\n",
      " |      \n",
      " |      Returns\n",
      " |      -------\n",
      " |      html_template : str\n",
      " |          HTML string with embed markup for this Post\n",
      " |  \n",
      " |  get_recent_comments(self) -> 'List[Comment]'\n",
      " |      Returns a list of Comment objects that contain data regarding\n",
      " |      some of the posts comments\n",
      " |      \n",
      " |      Returns\n",
      " |      -------\n",
      " |      comments_arr : List[Comment]\n",
      " |          List of Comment objects\n",
      " |  \n",
      " |  scrape(self, mapping=None, keys: 'List[str]' = None, exclude: 'List[str]' = None, headers={'user-agent': 'Mozilla/5.0 (Linux; Android 6.0; Nexus 5 Build/MRA58N) AppleWebKit/537.36 (KHTML, like Gecko) Chrome/87.0.4280.88 Mobile Safari/537.36 Edg/87.0.664.57'}, inplace=True, session=None, webdriver=None) -> 'None'\n",
      " |      Scrape data from the source\n",
      " |      \n",
      " |      Parameters\n",
      " |      ----------\n",
      " |      mapping : Dict[str, deque]\n",
      " |          Dictionary of parsing queue's that tell the JSON engine how to\n",
      " |          process the JSON data\n",
      " |      keys : List[str]\n",
      " |          List of strings that correspond to desired attributes for scraping\n",
      " |      exclude : List[str]\n",
      " |          List of strings that correspond to which attributes to exclude from\n",
      " |          being scraped\n",
      " |      headers : Dict[str, str]\n",
      " |          Dictionary of request headers to be passed on the GET request\n",
      " |      inplace : bool\n",
      " |          Determines if data modified inplace or return a new object with the\n",
      " |          scraped data\n",
      " |      session : requests.Session\n",
      " |          Session for making the GET request\n",
      " |      webdriver : selenium.webdriver.chrome.webdriver.WebDriver\n",
      " |          Webdriver for scraping the page, overrides any default or passed\n",
      " |          session\n",
      " |      \n",
      " |      Returns\n",
      " |      -------\n",
      " |      return_instance\n",
      " |          Optionally returns a scraped instance instead of modifying inplace\n",
      " |          if inplace arg is True\n",
      " |  \n",
      " |  ----------------------------------------------------------------------\n",
      " |  Data and other attributes inherited from instascrape.scrapers.post.Post:\n",
      " |  \n",
      " |  SUPPORTED_DOWNLOAD_EXTENSIONS = ['.mp3', '.mp4', '.png', '.jpg']\n",
      " |  \n",
      " |  ----------------------------------------------------------------------\n",
      " |  Methods inherited from instascrape.core._static_scraper._StaticHtmlScraper:\n",
      " |  \n",
      " |  __getitem__(self, key: 'str') -> 'Any'\n",
      " |  \n",
      " |  __init__(self, source: 'Union[str, BeautifulSoup, JSONDict]') -> 'None'\n",
      " |      Parameters\n",
      " |      ----------\n",
      " |      source : Union[str, BeautifulSoup, JSONDict]\n",
      " |          The given source for scraping the data from. Available sources are\n",
      " |          a URL, HTML, JSON dictionary, BeautifulSoup, etc.\n",
      " |  \n",
      " |  __repr__(self) -> 'str'\n",
      " |      Return repr(self).\n",
      " |  \n",
      " |  to_csv(self, fp: 'str') -> 'None'\n",
      " |      Write scraped data to .csv at the given filepath\n",
      " |      \n",
      " |      Parameters\n",
      " |      ----------\n",
      " |      fp : str\n",
      " |          Filepath to write data to\n",
      " |  \n",
      " |  to_dict(self, metadata: 'bool' = False) -> 'Dict[str, Any]'\n",
      " |      Return a dictionary containing all of the data that has been scraped\n",
      " |      \n",
      " |      Parameters\n",
      " |      ----------\n",
      " |      metadata : bool\n",
      " |          Boolean value that determines if metadata specified in self._METADATA_KEYS\n",
      " |          will be included in the dictionary.\n",
      " |      \n",
      " |      Returns\n",
      " |      -------\n",
      " |      data_dict : Dict[str, Any]\n",
      " |          Dictionary containing the scraped data\n",
      " |  \n",
      " |  to_json(self, fp: 'str') -> 'None'\n",
      " |      Write scraped data to .json file at the given filepath\n",
      " |      \n",
      " |      Parameters\n",
      " |      ----------\n",
      " |      fp : str\n",
      " |          Filepath to write data to\n",
      " |  \n",
      " |  ----------------------------------------------------------------------\n",
      " |  Data descriptors inherited from instascrape.core._static_scraper._StaticHtmlScraper:\n",
      " |  \n",
      " |  __dict__\n",
      " |      dictionary for instance variables (if defined)\n",
      " |  \n",
      " |  __weakref__\n",
      " |      list of weak references to the object (if defined)\n",
      " |  \n",
      " |  ----------------------------------------------------------------------\n",
      " |  Data and other attributes inherited from instascrape.core._static_scraper._StaticHtmlScraper:\n",
      " |  \n",
      " |  session = <requests.sessions.Session object>\n",
      "\n"
     ]
    }
   ],
   "source": [
    "help(r)"
   ]
  },
  {
   "cell_type": "code",
   "execution_count": 29,
   "metadata": {},
   "outputs": [
    {
     "data": {
      "text/plain": [
       "dict_keys(['source', 'url', 'html', 'soup', 'json_dict', 'flat_json_dict', 'scrape_timestamp', 'id', 'shortcode', 'height', 'width', 'gating_info', 'fact_check_overall_rating', 'fact_check_information', 'sensitivity_friction_info', 'media_overlay_info', 'media_preview', 'display_url', 'accessibility_caption', 'is_video', 'tracking_token', 'tagged_users', 'caption', 'caption_is_edited', 'has_ranked_comments', 'comments', 'comments_disabled', 'commenting_disabled_for_viewer', 'timestamp', 'likes', 'location', 'viewer_has_liked', 'viewer_has_saved', 'viewer_has_saved_to_collection', 'viewer_in_photo_of_you', 'viewer_can_reshare', 'video_url', 'has_audio', 'video_view_count', 'username', 'full_name', 'video_play_count', 'upload_date', 'hashtags'])"
      ]
     },
     "execution_count": 29,
     "metadata": {},
     "output_type": "execute_result"
    }
   ],
   "source": [
    "r.__dict__.keys()"
   ]
  },
  {
   "cell_type": "code",
   "execution_count": 34,
   "metadata": {},
   "outputs": [
    {
     "data": {
      "text/plain": [
       "'https://instagram.fpmr1-1.fna.fbcdn.net/v/t51.2885-15/e35/246985850_546050349822931_788564223156931074_n.jpg?_nc_ht=instagram.fpmr1-1.fna.fbcdn.net&_nc_cat=107&_nc_ohc=7yhKgsVX_xIAX8_lIK3&edm=APfKNqwBAAAA&ccb=7-4&oh=00_AT9c9fO4T_bZe7AYzfdF89FkYzIRhKYGv9srwbYQoppCJg&oe=61F209E7&_nc_sid=74f7ba'"
      ]
     },
     "execution_count": 34,
     "metadata": {},
     "output_type": "execute_result"
    }
   ],
   "source": [
    "r.display_url"
   ]
  },
  {
   "cell_type": "code",
   "execution_count": null,
   "metadata": {},
   "outputs": [],
   "source": []
  }
 ],
 "metadata": {
  "kernelspec": {
   "display_name": "Python 3",
   "language": "python",
   "name": "python3"
  },
  "language_info": {
   "codemirror_mode": {
    "name": "ipython",
    "version": 3
   },
   "file_extension": ".py",
   "mimetype": "text/x-python",
   "name": "python",
   "nbconvert_exporter": "python",
   "pygments_lexer": "ipython3",
   "version": "3.7.9"
  }
 },
 "nbformat": 4,
 "nbformat_minor": 4
}
